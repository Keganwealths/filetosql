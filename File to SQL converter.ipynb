{
 "cells": [
  {
   "cell_type": "code",
   "execution_count": 73,
   "id": "45f849c5",
   "metadata": {},
   "outputs": [],
   "source": [
    "import pandas as pd"
   ]
  },
  {
   "cell_type": "code",
   "execution_count": 74,
   "id": "cf34dbd4",
   "metadata": {},
   "outputs": [],
   "source": [
    "df=pd.read_excel(r'C:\\Users\\User\\OneDrive\\Desktop\\practice files\\remote_df.xlsx')"
   ]
  },
  {
   "cell_type": "code",
   "execution_count": 75,
   "id": "e8efef47",
   "metadata": {},
   "outputs": [
    {
     "data": {
      "text/html": [
       "<div>\n",
       "<style scoped>\n",
       "    .dataframe tbody tr th:only-of-type {\n",
       "        vertical-align: middle;\n",
       "    }\n",
       "\n",
       "    .dataframe tbody tr th {\n",
       "        vertical-align: top;\n",
       "    }\n",
       "\n",
       "    .dataframe thead th {\n",
       "        text-align: right;\n",
       "    }\n",
       "</style>\n",
       "<table border=\"1\" class=\"dataframe\">\n",
       "  <thead>\n",
       "    <tr style=\"text-align: right;\">\n",
       "      <th></th>\n",
       "      <th>Country</th>\n",
       "      <th>Numberof respondent</th>\n",
       "      <th>RemoteWork</th>\n",
       "      <th>workremote(%)</th>\n",
       "    </tr>\n",
       "  </thead>\n",
       "  <tbody>\n",
       "    <tr>\n",
       "      <th>0</th>\n",
       "      <td>United States of America</td>\n",
       "      <td>13543</td>\n",
       "      <td>6771</td>\n",
       "      <td>49.996308</td>\n",
       "    </tr>\n",
       "    <tr>\n",
       "      <th>1</th>\n",
       "      <td>India</td>\n",
       "      <td>6639</td>\n",
       "      <td>1952</td>\n",
       "      <td>29.402018</td>\n",
       "    </tr>\n",
       "    <tr>\n",
       "      <th>2</th>\n",
       "      <td>Germany</td>\n",
       "      <td>5395</td>\n",
       "      <td>1558</td>\n",
       "      <td>28.878591</td>\n",
       "    </tr>\n",
       "    <tr>\n",
       "      <th>3</th>\n",
       "      <td>United Kingdom of Great Britain and Northern I...</td>\n",
       "      <td>4190</td>\n",
       "      <td>1532</td>\n",
       "      <td>36.563246</td>\n",
       "    </tr>\n",
       "    <tr>\n",
       "      <th>4</th>\n",
       "      <td>Canada</td>\n",
       "      <td>2490</td>\n",
       "      <td>1308</td>\n",
       "      <td>52.530120</td>\n",
       "    </tr>\n",
       "  </tbody>\n",
       "</table>\n",
       "</div>"
      ],
      "text/plain": [
       "                                             Country  Numberof respondent   \n",
       "0                           United States of America                13543  \\\n",
       "1                                              India                 6639   \n",
       "2                                            Germany                 5395   \n",
       "3  United Kingdom of Great Britain and Northern I...                 4190   \n",
       "4                                             Canada                 2490   \n",
       "\n",
       "   RemoteWork  workremote(%)  \n",
       "0        6771      49.996308  \n",
       "1        1952      29.402018  \n",
       "2        1558      28.878591  \n",
       "3        1532      36.563246  \n",
       "4        1308      52.530120  "
      ]
     },
     "execution_count": 75,
     "metadata": {},
     "output_type": "execute_result"
    }
   ],
   "source": [
    "df.head()"
   ]
  },
  {
   "cell_type": "code",
   "execution_count": 76,
   "id": "97e5d930",
   "metadata": {},
   "outputs": [
    {
     "data": {
      "text/plain": [
       "Index(['Country', 'Numberof respondent', 'RemoteWork', 'workremote(%)'], dtype='object')"
      ]
     },
     "execution_count": 76,
     "metadata": {},
     "output_type": "execute_result"
    }
   ],
   "source": [
    "df.columns"
   ]
  },
  {
   "cell_type": "code",
   "execution_count": 77,
   "id": "c466aae7",
   "metadata": {},
   "outputs": [],
   "source": [
    "tablename='Kegan'"
   ]
  },
  {
   "cell_type": "code",
   "execution_count": 78,
   "id": "19fb76c4",
   "metadata": {},
   "outputs": [],
   "source": [
    "def create_statement(table,tablename):\n",
    "    crt_statement=f'CREATE TABLE {tablename}('\n",
    "    for column in table.columns:\n",
    "        column_name=column.replace(' ','_')\n",
    "        column_type=table[column].dtype\n",
    "        if column_type in ['int','int8','int32','int64']:\n",
    "            column_type='INT'\n",
    "        elif column_type in ['float','float8','float32','float64']:\n",
    "            column_type='NUMERIC(9,2)'\n",
    "        elif column_type=='object':\n",
    "            column_type='VARCHAR(255)'\n",
    "        elif column_type=='datetime64':\n",
    "            column_type='TIMESTAMP'\n",
    "        else:\n",
    "            column_type='VARCHAR(255)'\n",
    "        crt_statement+=f'\\n\\t{column_name} {column_type}'\n",
    "    crt_statement +='\\n);'\n",
    "    return crt_statement"
   ]
  },
  {
   "cell_type": "code",
   "execution_count": 79,
   "id": "a0d8bab7",
   "metadata": {},
   "outputs": [
    {
     "name": "stdout",
     "output_type": "stream",
     "text": [
      "CREATE TABLE Kegan(\n",
      "\tCountry VARCHAR(255)\n",
      "\tNumberof_respondent INT\n",
      "\tRemoteWork INT\n",
      "\tworkremote(%) NUMERIC(9,2)\n",
      ");\n"
     ]
    }
   ],
   "source": [
    "print(crt_statement)"
   ]
  },
  {
   "cell_type": "code",
   "execution_count": 80,
   "id": "4489aa2d",
   "metadata": {},
   "outputs": [
    {
     "data": {
      "text/html": [
       "<div>\n",
       "<style scoped>\n",
       "    .dataframe tbody tr th:only-of-type {\n",
       "        vertical-align: middle;\n",
       "    }\n",
       "\n",
       "    .dataframe tbody tr th {\n",
       "        vertical-align: top;\n",
       "    }\n",
       "\n",
       "    .dataframe thead th {\n",
       "        text-align: right;\n",
       "    }\n",
       "</style>\n",
       "<table border=\"1\" class=\"dataframe\">\n",
       "  <thead>\n",
       "    <tr style=\"text-align: right;\">\n",
       "      <th></th>\n",
       "      <th>Country</th>\n",
       "      <th>Numberof respondent</th>\n",
       "      <th>RemoteWork</th>\n",
       "      <th>workremote(%)</th>\n",
       "    </tr>\n",
       "  </thead>\n",
       "  <tbody>\n",
       "    <tr>\n",
       "      <th>0</th>\n",
       "      <td>United States of America</td>\n",
       "      <td>13543</td>\n",
       "      <td>6771</td>\n",
       "      <td>49.996308</td>\n",
       "    </tr>\n",
       "    <tr>\n",
       "      <th>1</th>\n",
       "      <td>India</td>\n",
       "      <td>6639</td>\n",
       "      <td>1952</td>\n",
       "      <td>29.402018</td>\n",
       "    </tr>\n",
       "  </tbody>\n",
       "</table>\n",
       "</div>"
      ],
      "text/plain": [
       "                    Country  Numberof respondent  RemoteWork  workremote(%)\n",
       "0  United States of America                13543        6771      49.996308\n",
       "1                     India                 6639        1952      29.402018"
      ]
     },
     "execution_count": 80,
     "metadata": {},
     "output_type": "execute_result"
    }
   ],
   "source": [
    "df.head(2)"
   ]
  },
  {
   "cell_type": "code",
   "execution_count": 81,
   "id": "e1a7392d",
   "metadata": {},
   "outputs": [],
   "source": [
    "def insert_statement(table,tablename):\n",
    "    for index, row in table.iterrows():\n",
    "        values=[]\n",
    "        for value in row:\n",
    "            if pd.isna(value):\n",
    "                value='NULL'\n",
    "            else:\n",
    "                value=f'\"{value}\"'\n",
    "            values.append(value)\n",
    "            col_name=', '.join(table.columns)\n",
    "            change_value =\", \".join(values)\n",
    "        ins_statement=f'INSERT INTO {tablename}({col_name}) VALUES ({change_value}),'\n",
    "        yield ins_statement"
   ]
  },
  {
   "cell_type": "code",
   "execution_count": 82,
   "id": "157de205",
   "metadata": {},
   "outputs": [
    {
     "name": "stdout",
     "output_type": "stream",
     "text": [
      "['INSERT INTO Isaac(Country, Numberof respondent, RemoteWork, workremote(%)) VALUES (\"United States of America\", \"13543\", \"6771\", \"49.9963080558222\"),', 'INSERT INTO Isaac(Country, Numberof respondent, RemoteWork, workremote(%)) VALUES (\"India\", \"6639\", \"1952\", \"29.40201837626148\"),', 'INSERT INTO Isaac(Country, Numberof respondent, RemoteWork, workremote(%)) VALUES (\"Germany\", \"5395\", \"1558\", \"28.87859128822984\"),', 'INSERT INTO Isaac(Country, Numberof respondent, RemoteWork, workremote(%)) VALUES (\"United Kingdom of Great Britain and Northern Ireland\", \"4190\", \"1532\", \"36.56324582338902\"),', 'INSERT INTO Isaac(Country, Numberof respondent, RemoteWork, workremote(%)) VALUES (\"Canada\", \"2490\", \"1308\", \"52.53012048192771\"),', 'INSERT INTO Isaac(Country, Numberof respondent, RemoteWork, workremote(%)) VALUES (\"France\", \"2328\", \"450\", \"19.3298969072165\"),', 'INSERT INTO Isaac(Country, Numberof respondent, RemoteWork, workremote(%)) VALUES (\"Brazil\", \"2109\", \"1248\", \"59.17496443812234\"),', 'INSERT INTO Isaac(Country, Numberof respondent, RemoteWork, workremote(%)) VALUES (\"Poland\", \"1732\", \"793\", \"45.78521939953811\"),', 'INSERT INTO Isaac(Country, Numberof respondent, RemoteWork, workremote(%)) VALUES (\"Netherlands\", \"1555\", \"250\", \"16.07717041800643\"),', 'INSERT INTO Isaac(Country, Numberof respondent, RemoteWork, workremote(%)) VALUES (\"Spain\", \"1521\", \"674\", \"44.3129520052597\"),', 'INSERT INTO Isaac(Country, Numberof respondent, RemoteWork, workremote(%)) VALUES (\"Italy\", \"1514\", \"405\", \"26.75033025099075\"),', 'INSERT INTO Isaac(Country, Numberof respondent, RemoteWork, workremote(%)) VALUES (\"Australia\", \"1462\", \"443\", \"30.30095759233926\"),', 'INSERT INTO Isaac(Country, Numberof respondent, RemoteWork, workremote(%)) VALUES (\"Russian Federation\", \"1229\", \"494\", \"40.19528071602929\"),', 'INSERT INTO Isaac(Country, Numberof respondent, RemoteWork, workremote(%)) VALUES (\"Turkey\", \"1020\", \"370\", \"36.27450980392157\"),', 'INSERT INTO Isaac(Country, Numberof respondent, RemoteWork, workremote(%)) VALUES (\"Sweden\", \"1020\", \"159\", \"15.58823529411765\"),', 'INSERT INTO Isaac(Country, Numberof respondent, RemoteWork, workremote(%)) VALUES (\"Switzerland\", \"932\", \"106\", \"11.37339055793991\"),', 'INSERT INTO Isaac(Country, Numberof respondent, RemoteWork, workremote(%)) VALUES (\"Austria\", \"833\", \"158\", \"18.96758703481393\"),', 'INSERT INTO Isaac(Country, Numberof respondent, RemoteWork, workremote(%)) VALUES (\"Israel\", \"795\", \"95\", \"11.94968553459119\"),', 'INSERT INTO Isaac(Country, Numberof respondent, RemoteWork, workremote(%)) VALUES (\"Iran, Islamic Republic of...\", \"723\", \"204\", \"28.21576763485477\"),', 'INSERT INTO Isaac(Country, Numberof respondent, RemoteWork, workremote(%)) VALUES (\"Pakistan\", \"711\", \"162\", \"22.78481012658228\"),', 'INSERT INTO Isaac(Country, Numberof respondent, RemoteWork, workremote(%)) VALUES (\"Czech Republic\", \"692\", \"187\", \"27.02312138728324\"),', 'INSERT INTO Isaac(Country, Numberof respondent, RemoteWork, workremote(%)) VALUES (\"China\", \"632\", \"66\", \"10.44303797468354\"),', 'INSERT INTO Isaac(Country, Numberof respondent, RemoteWork, workremote(%)) VALUES (\"Belgium\", \"626\", \"67\", \"10.70287539936102\"),', 'INSERT INTO Isaac(Country, Numberof respondent, RemoteWork, workremote(%)) VALUES (\"Bangladesh\", \"613\", \"125\", \"20.39151712887439\"),', 'INSERT INTO Isaac(Country, Numberof respondent, RemoteWork, workremote(%)) VALUES (\"Ukraine\", \"593\", \"356\", \"60.03372681281619\"),', 'INSERT INTO Isaac(Country, Numberof respondent, RemoteWork, workremote(%)) VALUES (\"Romania\", \"581\", \"271\", \"46.64371772805508\"),', 'INSERT INTO Isaac(Country, Numberof respondent, RemoteWork, workremote(%)) VALUES (\"Mexico\", \"574\", \"294\", \"51.21951219512195\"),', 'INSERT INTO Isaac(Country, Numberof respondent, RemoteWork, workremote(%)) VALUES (\"Portugal\", \"563\", \"232\", \"41.20781527531084\"),', 'INSERT INTO Isaac(Country, Numberof respondent, RemoteWork, workremote(%)) VALUES (\"Greece\", \"548\", \"192\", \"35.03649635036496\"),', 'INSERT INTO Isaac(Country, Numberof respondent, RemoteWork, workremote(%)) VALUES (\"Denmark\", \"547\", \"39\", \"7.129798903107861\"),', 'INSERT INTO Isaac(Country, Numberof respondent, RemoteWork, workremote(%)) VALUES (\"Indonesia\", \"537\", \"141\", \"26.25698324022346\"),', 'INSERT INTO Isaac(Country, Numberof respondent, RemoteWork, workremote(%)) VALUES (\"Argentina\", \"521\", \"293\", \"56.23800383877159\"),', 'INSERT INTO Isaac(Country, Numberof respondent, RemoteWork, workremote(%)) VALUES (\"Nigeria\", \"517\", \"150\", \"29.01353965183752\"),', 'INSERT INTO Isaac(Country, Numberof respondent, RemoteWork, workremote(%)) VALUES (\"South Africa\", \"493\", \"209\", \"42.39350912778905\"),', 'INSERT INTO Isaac(Country, Numberof respondent, RemoteWork, workremote(%)) VALUES (\"Norway\", \"479\", \"40\", \"8.350730688935283\"),', 'INSERT INTO Isaac(Country, Numberof respondent, RemoteWork, workremote(%)) VALUES (\"Finland\", \"468\", \"110\", \"23.5042735042735\"),', 'INSERT INTO Isaac(Country, Numberof respondent, RemoteWork, workremote(%)) VALUES (\"Hungary\", \"466\", \"154\", \"33.04721030042919\"),', 'INSERT INTO Isaac(Country, Numberof respondent, RemoteWork, workremote(%)) VALUES (\"New Zealand\", \"440\", \"123\", \"27.95454545454545\"),', 'INSERT INTO Isaac(Country, Numberof respondent, RemoteWork, workremote(%)) VALUES (\"Egypt\", \"400\", \"112\", \"28.0\"),', 'INSERT INTO Isaac(Country, Numberof respondent, RemoteWork, workremote(%)) VALUES (\"Philippines\", \"366\", \"137\", \"37.43169398907104\"),', 'INSERT INTO Isaac(Country, Numberof respondent, RemoteWork, workremote(%)) VALUES (\"Bulgaria\", \"364\", \"145\", \"39.83516483516483\"),', 'INSERT INTO Isaac(Country, Numberof respondent, RemoteWork, workremote(%)) VALUES (\"Colombia\", \"341\", \"228\", \"66.86217008797654\"),', 'INSERT INTO Isaac(Country, Numberof respondent, RemoteWork, workremote(%)) VALUES (\"Japan\", \"333\", \"146\", \"43.84384384384384\"),', 'INSERT INTO Isaac(Country, Numberof respondent, RemoteWork, workremote(%)) VALUES (\"Ireland\", \"332\", \"143\", \"43.07228915662651\"),', 'INSERT INTO Isaac(Country, Numberof respondent, RemoteWork, workremote(%)) VALUES (\"Viet Nam\", \"317\", \"34\", \"10.72555205047319\"),', 'INSERT INTO Isaac(Country, Numberof respondent, RemoteWork, workremote(%)) VALUES (\"Sri Lanka\", \"296\", \"102\", \"34.45945945945946\"),', 'INSERT INTO Isaac(Country, Numberof respondent, RemoteWork, workremote(%)) VALUES (\"Slovenia\", \"286\", \"59\", \"20.62937062937063\"),', 'INSERT INTO Isaac(Country, Numberof respondent, RemoteWork, workremote(%)) VALUES (\"Serbia\", \"282\", \"111\", \"39.36170212765958\"),', 'INSERT INTO Isaac(Country, Numberof respondent, RemoteWork, workremote(%)) VALUES (\"Kenya\", \"270\", \"75\", \"27.77777777777778\"),', 'INSERT INTO Isaac(Country, Numberof respondent, RemoteWork, workremote(%)) VALUES (\"Taiwan\", \"233\", \"33\", \"14.16309012875537\"),', 'INSERT INTO Isaac(Country, Numberof respondent, RemoteWork, workremote(%)) VALUES (\"Slovakia\", \"229\", \"79\", \"34.49781659388647\"),', 'INSERT INTO Isaac(Country, Numberof respondent, RemoteWork, workremote(%)) VALUES (\"South Korea\", \"229\", \"22\", \"9.606986899563319\"),', 'INSERT INTO Isaac(Country, Numberof respondent, RemoteWork, workremote(%)) VALUES (\"Morocco\", \"226\", \"47\", \"20.79646017699115\"),', 'INSERT INTO Isaac(Country, Numberof respondent, RemoteWork, workremote(%)) VALUES (\"Singapore\", \"226\", \"28\", \"12.38938053097345\"),', 'INSERT INTO Isaac(Country, Numberof respondent, RemoteWork, workremote(%)) VALUES (\"Nepal\", \"222\", \"48\", \"21.62162162162162\"),', 'INSERT INTO Isaac(Country, Numberof respondent, RemoteWork, workremote(%)) VALUES (\"Lithuania\", \"212\", \"59\", \"27.83018867924528\"),', 'INSERT INTO Isaac(Country, Numberof respondent, RemoteWork, workremote(%)) VALUES (\"Malaysia\", \"206\", \"36\", \"17.47572815533981\"),', 'INSERT INTO Isaac(Country, Numberof respondent, RemoteWork, workremote(%)) VALUES (\"Chile\", \"203\", \"120\", \"59.11330049261084\"),', 'INSERT INTO Isaac(Country, Numberof respondent, RemoteWork, workremote(%)) VALUES (\"Croatia\", \"192\", \"60\", \"31.25\"),', 'INSERT INTO Isaac(Country, Numberof respondent, RemoteWork, workremote(%)) VALUES (\"Hong Kong (S.A.R.)\", \"184\", \"14\", \"7.608695652173914\"),', 'INSERT INTO Isaac(Country, Numberof respondent, RemoteWork, workremote(%)) VALUES (\"Thailand\", \"175\", \"55\", \"31.42857142857143\"),', 'INSERT INTO Isaac(Country, Numberof respondent, RemoteWork, workremote(%)) VALUES (\"United Arab Emirates\", \"165\", \"33\", \"20.0\"),', 'INSERT INTO Isaac(Country, Numberof respondent, RemoteWork, workremote(%)) VALUES (\"Estonia\", \"141\", \"36\", \"25.53191489361702\"),', 'INSERT INTO Isaac(Country, Numberof respondent, RemoteWork, workremote(%)) VALUES (\"Peru\", \"136\", \"83\", \"61.02941176470588\"),', 'INSERT INTO Isaac(Country, Numberof respondent, RemoteWork, workremote(%)) VALUES (\"Belarus\", \"136\", \"63\", \"46.32352941176471\"),', 'INSERT INTO Isaac(Country, Numberof respondent, RemoteWork, workremote(%)) VALUES (\"Venezuela, Bolivarian Republic of...\", \"119\", \"72\", \"60.50420168067227\"),', 'INSERT INTO Isaac(Country, Numberof respondent, RemoteWork, workremote(%)) VALUES (\"Saudi Arabia\", \"116\", \"12\", \"10.3448275862069\"),', 'INSERT INTO Isaac(Country, Numberof respondent, RemoteWork, workremote(%)) VALUES (\"Uruguay\", \"106\", \"45\", \"42.45283018867924\"),', 'INSERT INTO Isaac(Country, Numberof respondent, RemoteWork, workremote(%)) VALUES (\"Georgia\", \"105\", \"61\", \"58.0952380952381\"),', 'INSERT INTO Isaac(Country, Numberof respondent, RemoteWork, workremote(%)) VALUES (\"Bosnia and Herzegovina\", \"103\", \"32\", \"31.06796116504854\"),', 'INSERT INTO Isaac(Country, Numberof respondent, RemoteWork, workremote(%)) VALUES (\"Tunisia\", \"101\", \"15\", \"14.85148514851485\"),', 'INSERT INTO Isaac(Country, Numberof respondent, RemoteWork, workremote(%)) VALUES (\"Latvia\", \"95\", \"30\", \"31.57894736842105\"),', 'INSERT INTO Isaac(Country, Numberof respondent, RemoteWork, workremote(%)) VALUES (\"Armenia\", \"93\", \"32\", \"34.40860215053764\"),', 'INSERT INTO Isaac(Country, Numberof respondent, RemoteWork, workremote(%)) VALUES (\"Ghana\", \"86\", \"19\", \"22.09302325581395\"),', 'INSERT INTO Isaac(Country, Numberof respondent, RemoteWork, workremote(%)) VALUES (\"Uzbekistan\", \"84\", \"21\", \"25.0\"),', 'INSERT INTO Isaac(Country, Numberof respondent, RemoteWork, workremote(%)) VALUES (\"Ecuador\", \"83\", \"40\", \"48.19277108433735\"),', 'INSERT INTO Isaac(Country, Numberof respondent, RemoteWork, workremote(%)) VALUES (\"Dominican Republic\", \"83\", \"50\", \"60.24096385542169\"),', 'INSERT INTO Isaac(Country, Numberof respondent, RemoteWork, workremote(%)) VALUES (\"Costa Rica\", \"76\", \"49\", \"64.47368421052632\"),', 'INSERT INTO Isaac(Country, Numberof respondent, RemoteWork, workremote(%)) VALUES (\"Ethiopia\", \"75\", \"18\", \"24.0\"),', 'INSERT INTO Isaac(Country, Numberof respondent, RemoteWork, workremote(%)) VALUES (\"Republic of Korea\", \"72\", \"5\", \"6.944444444444445\"),', 'INSERT INTO Isaac(Country, Numberof respondent, RemoteWork, workremote(%)) VALUES (\"Lebanon\", \"71\", \"16\", \"22.53521126760564\"),', 'INSERT INTO Isaac(Country, Numberof respondent, RemoteWork, workremote(%)) VALUES (\"Kazakhstan\", \"70\", \"19\", \"27.14285714285714\"),', 'INSERT INTO Isaac(Country, Numberof respondent, RemoteWork, workremote(%)) VALUES (\"Afghanistan\", \"69\", \"15\", \"21.73913043478261\"),', 'INSERT INTO Isaac(Country, Numberof respondent, RemoteWork, workremote(%)) VALUES (\"Azerbaijan\", \"69\", \"17\", \"24.63768115942029\"),', 'INSERT INTO Isaac(Country, Numberof respondent, RemoteWork, workremote(%)) VALUES (\"Jordan\", \"64\", \"9\", \"14.0625\"),', 'INSERT INTO Isaac(Country, Numberof respondent, RemoteWork, workremote(%)) VALUES (\"Uganda\", \"63\", \"10\", \"15.87301587301587\"),', 'INSERT INTO Isaac(Country, Numberof respondent, RemoteWork, workremote(%)) VALUES (\"Cyprus\", \"61\", \"23\", \"37.70491803278689\"),', 'INSERT INTO Isaac(Country, Numberof respondent, RemoteWork, workremote(%)) VALUES (\"Albania\", \"59\", \"11\", \"18.64406779661017\"),', 'INSERT INTO Isaac(Country, Numberof respondent, RemoteWork, workremote(%)) VALUES (\"Luxembourg\", \"56\", \"9\", \"16.07142857142857\"),', 'INSERT INTO Isaac(Country, Numberof respondent, RemoteWork, workremote(%)) VALUES (\"Iraq\", \"54\", \"4\", \"7.407407407407407\"),', 'INSERT INTO Isaac(Country, Numberof respondent, RemoteWork, workremote(%)) VALUES (\"Guatemala\", \"54\", \"28\", \"51.85185185185185\"),', 'INSERT INTO Isaac(Country, Numberof respondent, RemoteWork, workremote(%)) VALUES (\"Myanmar\", \"53\", \"10\", \"18.86792452830189\"),', 'INSERT INTO Isaac(Country, Numberof respondent, RemoteWork, workremote(%)) VALUES (\"The former Yugoslav Republic of Macedonia\", \"51\", \"22\", \"43.13725490196079\"),', 'INSERT INTO Isaac(Country, Numberof respondent, RemoteWork, workremote(%)) VALUES (\"El Salvador\", \"45\", \"22\", \"48.88888888888889\"),', 'INSERT INTO Isaac(Country, Numberof respondent, RemoteWork, workremote(%)) VALUES (\"Bolivia\", \"44\", \"17\", \"38.63636363636363\"),', 'INSERT INTO Isaac(Country, Numberof respondent, RemoteWork, workremote(%)) VALUES (\"Paraguay\", \"42\", \"20\", \"47.61904761904761\"),', 'INSERT INTO Isaac(Country, Numberof respondent, RemoteWork, workremote(%)) VALUES (\"Malta\", \"39\", \"11\", \"28.2051282051282\"),', 'INSERT INTO Isaac(Country, Numberof respondent, RemoteWork, workremote(%)) VALUES (\"Nomadic\", \"37\", \"19\", \"51.35135135135135\"),', 'INSERT INTO Isaac(Country, Numberof respondent, RemoteWork, workremote(%)) VALUES (\"Republic of Moldova\", \"37\", \"15\", \"40.54054054054054\"),', 'INSERT INTO Isaac(Country, Numberof respondent, RemoteWork, workremote(%)) VALUES (\"Algeria\", \"36\", \"7\", \"19.44444444444445\"),', 'INSERT INTO Isaac(Country, Numberof respondent, RemoteWork, workremote(%)) VALUES (\"Cambodia\", \"35\", \"3\", \"8.571428571428571\"),', 'INSERT INTO Isaac(Country, Numberof respondent, RemoteWork, workremote(%)) VALUES (\"Syrian Arab Republic\", \"35\", \"13\", \"37.14285714285715\"),', 'INSERT INTO Isaac(Country, Numberof respondent, RemoteWork, workremote(%)) VALUES (\"Cameroon\", \"34\", \"7\", \"20.58823529411764\"),', 'INSERT INTO Isaac(Country, Numberof respondent, RemoteWork, workremote(%)) VALUES (\"Palestine\", \"34\", \"10\", \"29.41176470588236\"),', 'INSERT INTO Isaac(Country, Numberof respondent, RemoteWork, workremote(%)) VALUES (\"Sudan\", \"32\", \"12\", \"37.5\"),', 'INSERT INTO Isaac(Country, Numberof respondent, RemoteWork, workremote(%)) VALUES (\"Cuba\", \"31\", \"19\", \"61.29032258064516\"),', 'INSERT INTO Isaac(Country, Numberof respondent, RemoteWork, workremote(%)) VALUES (\"Zimbabwe\", \"30\", \"5\", \"16.66666666666666\"),', 'INSERT INTO Isaac(Country, Numberof respondent, RemoteWork, workremote(%)) VALUES (\"Kosovo\", \"29\", \"6\", \"20.68965517241379\"),', 'INSERT INTO Isaac(Country, Numberof respondent, RemoteWork, workremote(%)) VALUES (\"United Republic of Tanzania\", \"28\", \"2\", \"7.142857142857142\"),', 'INSERT INTO Isaac(Country, Numberof respondent, RemoteWork, workremote(%)) VALUES (\"Iceland\", \"28\", \"6\", \"21.42857142857143\"),', 'INSERT INTO Isaac(Country, Numberof respondent, RemoteWork, workremote(%)) VALUES (\"Honduras\", \"28\", \"10\", \"35.71428571428572\"),', 'INSERT INTO Isaac(Country, Numberof respondent, RemoteWork, workremote(%)) VALUES (\"Panama\", \"28\", \"11\", \"39.28571428571428\"),', 'INSERT INTO Isaac(Country, Numberof respondent, RemoteWork, workremote(%)) VALUES (\"Madagascar\", \"26\", \"5\", \"19.23076923076923\"),', 'INSERT INTO Isaac(Country, Numberof respondent, RemoteWork, workremote(%)) VALUES (\"Kyrgyzstan\", \"22\", \"7\", \"31.81818181818182\"),', 'INSERT INTO Isaac(Country, Numberof respondent, RemoteWork, workremote(%)) VALUES (\"Jamaica\", \"22\", \"6\", \"27.27272727272727\"),', 'INSERT INTO Isaac(Country, Numberof respondent, RemoteWork, workremote(%)) VALUES (\"Mauritius\", \"21\", \"6\", \"28.57142857142857\"),', 'INSERT INTO Isaac(Country, Numberof respondent, RemoteWork, workremote(%)) VALUES (\"Rwanda\", \"20\", \"7\", \"35.0\"),', 'INSERT INTO Isaac(Country, Numberof respondent, RemoteWork, workremote(%)) VALUES (\"Zambia\", \"20\", \"3\", \"15.0\"),', 'INSERT INTO Isaac(Country, Numberof respondent, RemoteWork, workremote(%)) VALUES (\"Kuwait\", \"20\", \"1\", \"5.0\"),', 'INSERT INTO Isaac(Country, Numberof respondent, RemoteWork, workremote(%)) VALUES (\"Qatar\", \"20\", \"3\", \"15.0\"),', 'INSERT INTO Isaac(Country, Numberof respondent, RemoteWork, workremote(%)) VALUES (\"Montenegro\", \"19\", \"11\", \"57.89473684210527\"),', 'INSERT INTO Isaac(Country, Numberof respondent, RemoteWork, workremote(%)) VALUES (\"Mongolia\", \"19\", \"0\", \"0.0\"),', 'INSERT INTO Isaac(Country, Numberof respondent, RemoteWork, workremote(%)) VALUES (\"Nicaragua\", \"18\", \"14\", \"77.77777777777779\"),', 'INSERT INTO Isaac(Country, Numberof respondent, RemoteWork, workremote(%)) VALUES (\"Turkmenistan\", \"16\", \"5\", \"31.25\"),', 'INSERT INTO Isaac(Country, Numberof respondent, RemoteWork, workremote(%)) VALUES (\"Andorra\", \"15\", \"8\", \"53.33333333333334\"),', 'INSERT INTO Isaac(Country, Numberof respondent, RemoteWork, workremote(%)) VALUES (\"Bahrain\", \"14\", \"2\", \"14.28571428571428\"),', 'INSERT INTO Isaac(Country, Numberof respondent, RemoteWork, workremote(%)) VALUES (\"Malawi\", \"14\", \"1\", \"7.142857142857142\"),', 'INSERT INTO Isaac(Country, Numberof respondent, RemoteWork, workremote(%)) VALUES (\"Yemen\", \"14\", \"4\", \"28.57142857142857\"),', 'INSERT INTO Isaac(Country, Numberof respondent, RemoteWork, workremote(%)) VALUES (\"Côte d\\'Ivoire\", \"14\", \"2\", \"14.28571428571428\"),', 'INSERT INTO Isaac(Country, Numberof respondent, RemoteWork, workremote(%)) VALUES (\"Senegal\", \"13\", \"4\", \"30.76923076923077\"),', 'INSERT INTO Isaac(Country, Numberof respondent, RemoteWork, workremote(%)) VALUES (\"Libyan Arab Jamahiriya\", \"13\", \"4\", \"30.76923076923077\"),', 'INSERT INTO Isaac(Country, Numberof respondent, RemoteWork, workremote(%)) VALUES (\"Trinidad and Tobago\", \"13\", \"2\", \"15.38461538461539\"),', 'INSERT INTO Isaac(Country, Numberof respondent, RemoteWork, workremote(%)) VALUES (\"Oman\", \"13\", \"2\", \"15.38461538461539\"),', 'INSERT INTO Isaac(Country, Numberof respondent, RemoteWork, workremote(%)) VALUES (\"Congo, Republic of the...\", \"12\", \"1\", \"8.333333333333332\"),', 'INSERT INTO Isaac(Country, Numberof respondent, RemoteWork, workremote(%)) VALUES (\"Somalia\", \"12\", \"1\", \"8.333333333333332\"),', 'INSERT INTO Isaac(Country, Numberof respondent, RemoteWork, workremote(%)) VALUES (\"Maldives\", \"12\", \"4\", \"33.33333333333333\"),', 'INSERT INTO Isaac(Country, Numberof respondent, RemoteWork, workremote(%)) VALUES (\"Isle of Man\", \"12\", \"1\", \"8.333333333333332\"),', 'INSERT INTO Isaac(Country, Numberof respondent, RemoteWork, workremote(%)) VALUES (\"Angola\", \"12\", \"5\", \"41.66666666666667\"),', 'INSERT INTO Isaac(Country, Numberof respondent, RemoteWork, workremote(%)) VALUES (\"Tajikistan\", \"11\", \"2\", \"18.18181818181818\"),', 'INSERT INTO Isaac(Country, Numberof respondent, RemoteWork, workremote(%)) VALUES (\"Benin\", \"11\", \"4\", \"36.36363636363637\"),', 'INSERT INTO Isaac(Country, Numberof respondent, RemoteWork, workremote(%)) VALUES (\"Mozambique\", \"11\", \"0\", \"0.0\"),', 'INSERT INTO Isaac(Country, Numberof respondent, RemoteWork, workremote(%)) VALUES (\"Mali\", \"10\", \"2\", \"20.0\"),', 'INSERT INTO Isaac(Country, Numberof respondent, RemoteWork, workremote(%)) VALUES (\"Togo\", \"9\", \"1\", \"11.11111111111111\"),', 'INSERT INTO Isaac(Country, Numberof respondent, RemoteWork, workremote(%)) VALUES (\"Swaziland\", \"7\", \"3\", \"42.85714285714285\"),', 'INSERT INTO Isaac(Country, Numberof respondent, RemoteWork, workremote(%)) VALUES (\"Democratic Republic of the Congo\", \"7\", \"1\", \"14.28571428571428\"),', 'INSERT INTO Isaac(Country, Numberof respondent, RemoteWork, workremote(%)) VALUES (\"Lao People\\'s Democratic Republic\", \"7\", \"3\", \"42.85714285714285\"),', 'INSERT INTO Isaac(Country, Numberof respondent, RemoteWork, workremote(%)) VALUES (\"Botswana\", \"6\", \"2\", \"33.33333333333333\"),', 'INSERT INTO Isaac(Country, Numberof respondent, RemoteWork, workremote(%)) VALUES (\"Barbados\", \"6\", \"3\", \"50.0\"),', 'INSERT INTO Isaac(Country, Numberof respondent, RemoteWork, workremote(%)) VALUES (\"Guyana\", \"6\", \"3\", \"50.0\"),', 'INSERT INTO Isaac(Country, Numberof respondent, RemoteWork, workremote(%)) VALUES (\"Namibia\", \"5\", \"0\", \"0.0\"),', 'INSERT INTO Isaac(Country, Numberof respondent, RemoteWork, workremote(%)) VALUES (\"Guinea\", \"5\", \"1\", \"20.0\"),', 'INSERT INTO Isaac(Country, Numberof respondent, RemoteWork, workremote(%)) VALUES (\"Bhutan\", \"5\", \"0\", \"0.0\"),', 'INSERT INTO Isaac(Country, Numberof respondent, RemoteWork, workremote(%)) VALUES (\"North Korea\", \"4\", \"0\", \"0.0\"),', 'INSERT INTO Isaac(Country, Numberof respondent, RemoteWork, workremote(%)) VALUES (\"Suriname\", \"4\", \"1\", \"25.0\"),', 'INSERT INTO Isaac(Country, Numberof respondent, RemoteWork, workremote(%)) VALUES (\"Timor-Leste\", \"4\", \"1\", \"25.0\"),', 'INSERT INTO Isaac(Country, Numberof respondent, RemoteWork, workremote(%)) VALUES (\"Bahamas\", \"4\", \"1\", \"25.0\"),', 'INSERT INTO Isaac(Country, Numberof respondent, RemoteWork, workremote(%)) VALUES (\"Cape Verde\", \"4\", \"1\", \"25.0\"),', 'INSERT INTO Isaac(Country, Numberof respondent, RemoteWork, workremote(%)) VALUES (\"Belize\", \"3\", \"0\", \"0.0\"),', 'INSERT INTO Isaac(Country, Numberof respondent, RemoteWork, workremote(%)) VALUES (\"Haiti\", \"3\", \"0\", \"0.0\"),', 'INSERT INTO Isaac(Country, Numberof respondent, RemoteWork, workremote(%)) VALUES (\"Niger\", \"3\", \"1\", \"33.33333333333333\"),', 'INSERT INTO Isaac(Country, Numberof respondent, RemoteWork, workremote(%)) VALUES (\"Chad\", \"3\", \"1\", \"33.33333333333333\"),', 'INSERT INTO Isaac(Country, Numberof respondent, RemoteWork, workremote(%)) VALUES (\"Saint Lucia\", \"3\", \"0\", \"0.0\"),', 'INSERT INTO Isaac(Country, Numberof respondent, RemoteWork, workremote(%)) VALUES (\"Antigua and Barbuda\", \"2\", \"1\", \"50.0\"),', 'INSERT INTO Isaac(Country, Numberof respondent, RemoteWork, workremote(%)) VALUES (\"Palau\", \"2\", \"0\", \"0.0\"),', 'INSERT INTO Isaac(Country, Numberof respondent, RemoteWork, workremote(%)) VALUES (\"Papua New Guinea\", \"2\", \"0\", \"0.0\"),', 'INSERT INTO Isaac(Country, Numberof respondent, RemoteWork, workremote(%)) VALUES (\"Sierra Leone\", \"2\", \"0\", \"0.0\"),', 'INSERT INTO Isaac(Country, Numberof respondent, RemoteWork, workremote(%)) VALUES (\"Gambia\", \"2\", \"0\", \"0.0\"),', 'INSERT INTO Isaac(Country, Numberof respondent, RemoteWork, workremote(%)) VALUES (\"Gabon\", \"2\", \"0\", \"0.0\"),', 'INSERT INTO Isaac(Country, Numberof respondent, RemoteWork, workremote(%)) VALUES (\"Mauritania\", \"2\", \"0\", \"0.0\"),', 'INSERT INTO Isaac(Country, Numberof respondent, RemoteWork, workremote(%)) VALUES (\"Fiji\", \"2\", \"1\", \"50.0\"),', 'INSERT INTO Isaac(Country, Numberof respondent, RemoteWork, workremote(%)) VALUES (\"Liberia\", \"2\", \"0\", \"0.0\"),', 'INSERT INTO Isaac(Country, Numberof respondent, RemoteWork, workremote(%)) VALUES (\"Lesotho\", \"2\", \"1\", \"50.0\"),', 'INSERT INTO Isaac(Country, Numberof respondent, RemoteWork, workremote(%)) VALUES (\"Brunei Darussalam\", \"1\", \"0\", \"0.0\"),', 'INSERT INTO Isaac(Country, Numberof respondent, RemoteWork, workremote(%)) VALUES (\"Saint Kitts and Nevis\", \"1\", \"0\", \"0.0\"),', 'INSERT INTO Isaac(Country, Numberof respondent, RemoteWork, workremote(%)) VALUES (\"San Marino\", \"1\", \"0\", \"0.0\"),', 'INSERT INTO Isaac(Country, Numberof respondent, RemoteWork, workremote(%)) VALUES (\"Seychelles\", \"1\", \"0\", \"0.0\"),', 'INSERT INTO Isaac(Country, Numberof respondent, RemoteWork, workremote(%)) VALUES (\"Monaco\", \"1\", \"0\", \"0.0\"),', 'INSERT INTO Isaac(Country, Numberof respondent, RemoteWork, workremote(%)) VALUES (\"Solomon Islands\", \"1\", \"0\", \"0.0\"),', 'INSERT INTO Isaac(Country, Numberof respondent, RemoteWork, workremote(%)) VALUES (\"Burkina Faso\", \"1\", \"0\", \"0.0\"),', 'INSERT INTO Isaac(Country, Numberof respondent, RemoteWork, workremote(%)) VALUES (\"Djibouti\", \"1\", \"0\", \"0.0\"),']\n"
     ]
    }
   ],
   "source": [
    "ists= insert_statement(df,'Isaac')\n",
    "print(list(ists))"
   ]
  },
  {
   "cell_type": "code",
   "execution_count": 83,
   "id": "b60b4779",
   "metadata": {},
   "outputs": [],
   "source": [
    "def sql_generator(table, tablename):\n",
    "    crt = create_statement(table, tablename)\n",
    "    ins = insert_statement(table, tablename)\n",
    "    final_statement = f\"{crt} {' '.join(list(ins))}\"\n",
    "    return final_statement"
   ]
  },
  {
   "cell_type": "code",
   "execution_count": 84,
   "id": "3e9e4430",
   "metadata": {},
   "outputs": [],
   "source": [
    "dff=pd.read_csv(r'C:\\Users\\User\\OneDrive\\Desktop\\practice files\\violations.csv')"
   ]
  },
  {
   "cell_type": "code",
   "execution_count": 85,
   "id": "4fcdf76a",
   "metadata": {},
   "outputs": [],
   "source": [
    "sql_sts = sql_generator(dff, \"violation\")"
   ]
  },
  {
   "cell_type": "code",
   "execution_count": 86,
   "id": "52874003",
   "metadata": {},
   "outputs": [],
   "source": [
    "with open('Lorna.txt','w')as file:\n",
    "    file.write(sql_sts)"
   ]
  },
  {
   "cell_type": "code",
   "execution_count": null,
   "id": "41040ceb",
   "metadata": {},
   "outputs": [],
   "source": []
  }
 ],
 "metadata": {
  "kernelspec": {
   "display_name": "Python 3 (ipykernel)",
   "language": "python",
   "name": "python3"
  },
  "language_info": {
   "codemirror_mode": {
    "name": "ipython",
    "version": 3
   },
   "file_extension": ".py",
   "mimetype": "text/x-python",
   "name": "python",
   "nbconvert_exporter": "python",
   "pygments_lexer": "ipython3",
   "version": "3.11.2"
  }
 },
 "nbformat": 4,
 "nbformat_minor": 5
}
